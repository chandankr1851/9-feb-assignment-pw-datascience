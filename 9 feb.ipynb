{
 "cells": [
  {
   "cell_type": "code",
   "execution_count": null,
   "id": "8b4110e4-a262-4f48-b0f6-66139d3d33b0",
   "metadata": {},
   "outputs": [],
   "source": [
    "Q1, Create a vehicle class with an init method having instance variables as name_of_vehicle, max_speed\n",
    "and average_of_vehicle.\n",
    "Q2. Create a child class car from the vehicle class created in Que 1, which will inherit the vehicle class.\n",
    "Create a method named seating_capacity which takes capacity as an argument and returns the name of\n",
    "the vehicle and its seating capacity.\n",
    "Q3. What is multiple inheritance? Write a python code to demonstrate multiple inheritance.\n",
    "Q4. What are getter and setter in python? Create a class and create a getter and a setter method in this\n",
    "class.\n",
    "Q5.What is method overriding in python? Write a python code to demonstrate method overriding."
   ]
  },
  {
   "cell_type": "code",
   "execution_count": null,
   "id": "fd5f2ddc-4c74-4630-8bb9-5fcefbb8c276",
   "metadata": {},
   "outputs": [],
   "source": [
    "Q1. Create a vehicle class with an __init__ method having instance variables as name_of_vehicle, max_speed, and average_of_vehicle.\n",
    "class Car(Vehicle):\n",
    "    def seating_capacity(self, capacity):\n",
    "        return f\"{self.name_of_vehicle} has a seating capacity of {capacity} persons.\"\n"
   ]
  },
  {
   "cell_type": "code",
   "execution_count": null,
   "id": "3c50bd32-fb37-42ea-87dc-91561e89f340",
   "metadata": {},
   "outputs": [],
   "source": [
    "Q2. Create a child class Car from the Vehicle class, which will inherit the Vehicle class.\n",
    "Create a method named seating_capacity that takes capacity as \n",
    "an argument and returns the name of the vehicle and its seating capacity.\n",
    "class Car(Vehicle):\n",
    "    def seating_capacity(self, capacity):\n",
    "        return f\"{self.name_of_vehicle} has a seating capacity of {capacity} persons.\"\n"
   ]
  },
  {
   "cell_type": "code",
   "execution_count": null,
   "id": "332fb562-322f-406a-83bc-90769b7a3942",
   "metadata": {},
   "outputs": [],
   "source": [
    "Q3. What is multiple inheritance? Write a Python code to demonstrate multiple inheritance.\n",
    "\n",
    "Multiple inheritance is a concept in object-oriented programming where a class can inherit properties\n",
    "and methods from more than one base class. In Python, a class can inherit from multiple classes,\n",
    "and the child class will have access to all the attributes and methods of its parent classes.\n",
    "\n",
    "Example of multiple inheritance:\n",
    "    class Engine:\n",
    "    def start(self):\n",
    "        print(\"Engine started.\")\n",
    "\n",
    "class ElectricVehicle:\n",
    "    def recharge(self):\n",
    "        print(\"Charging the electric vehicle.\")\n",
    "\n",
    "class HybridCar(Engine, ElectricVehicle):\n",
    "    pass\n",
    "\n",
    "hybrid_car = HybridCar()\n",
    "hybrid_car.start()      # Output: Engine started.\n",
    "hybrid_car.recharge()   # Output: Charging the electric vehicle.\n"
   ]
  },
  {
   "cell_type": "code",
   "execution_count": null,
   "id": "1d1f2f16-1535-4905-a4cd-ad47611c8092",
   "metadata": {},
   "outputs": [],
   "source": [
    "Q4. What are getter and setter in Python? Create a class and create a getter and a setter method in this class.\n",
    "\n",
    "In Python, getters and setters are methods used to get and set the values of class attributes (variables). They provide controlled access to class attributes and help in encapsulating the data within the class.\n",
    "\n",
    "Example of using getter and setter methods:\n",
    "    class Person:\n",
    "    def __init__(self, name, age):\n",
    "        self._name = name\n",
    "        self._age = age\n",
    "\n",
    "    def get_name(self):\n",
    "        return self._name\n",
    "\n",
    "    def set_name(self, name):\n",
    "        self._name = name\n",
    "\n",
    "    def get_age(self):\n",
    "        return self._age\n",
    "\n",
    "    def set_age(self, age):\n",
    "        if age >= 0:\n",
    "            self._age = age\n",
    "        else:\n",
    "            print(\"Age cannot be negative.\")\n",
    "\n",
    "person = Person(\"Alice\", 30)\n",
    "print(person.get_name())  # Output: \"Alice\"\n",
    "print(person.get_age())   # Output: 30\n",
    "\n",
    "person.set_name(\"Bob\")\n",
    "person.set_age(25)\n",
    "print(person.get_name())  # Output: \"Bob\"\n",
    "print(person.get_age())   # Output: 25\n",
    "\n",
    "person.set_age(-5)        # Output: \"Age cannot be negative.\"\n"
   ]
  }
 ],
 "metadata": {
  "kernelspec": {
   "display_name": "Python 3 (ipykernel)",
   "language": "python",
   "name": "python3"
  },
  "language_info": {
   "codemirror_mode": {
    "name": "ipython",
    "version": 3
   },
   "file_extension": ".py",
   "mimetype": "text/x-python",
   "name": "python",
   "nbconvert_exporter": "python",
   "pygments_lexer": "ipython3",
   "version": "3.10.8"
  }
 },
 "nbformat": 4,
 "nbformat_minor": 5
}
